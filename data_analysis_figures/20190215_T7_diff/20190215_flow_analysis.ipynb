{
 "cells": [
  {
   "cell_type": "code",
   "execution_count": 1,
   "metadata": {
    "collapsed": true
   },
   "outputs": [],
   "source": [
    "import collections\n",
    "import bisect\n",
    "import glob\n",
    "import os\n",
    "import numpy as np\n",
    "import pandas as pd\n",
    "import matplotlib.pyplot as plt\n",
    "import seaborn as sns\n",
    "import scipy.stats as stats\n",
    "import matplotlib.pyplot as plt\n",
    "import matplotlib as mpl\n",
    "import scipy.signal as signal\n",
    "\n",
    "from sklearn.neighbors import KernelDensity\n",
    "# from sklearn.grid_search import GridSearchCV\n",
    "# from sklearn.cross_validation import LeaveOneOut\n",
    "from sklearn.mixture import GaussianMixture\n",
    "# from sklearn.cross_validation import KFold\n",
    "\n",
    "\n",
    "\n",
    "\n",
    "sns.set_context(\"talk\", font_scale=1, rc={\"lines.linewidth\": 2.0, 'lines.markersize': 5})\n",
    "sns.set_style(\"ticks\")\n",
    "sns.set_style({\"xtick.direction\": \"in\",\"ytick.direction\": \"in\"})\n",
    "\n",
    "tw = 1.5\n",
    "sns.set_style({\"xtick.major.size\": 6, \"ytick.major.size\": 6,\n",
    "               \"xtick.minor.size\": 4, \"ytick.minor.size\": 4,\n",
    "               'axes.labelsize': 24,\n",
    "               'xtick.major.width': tw, 'xtick.minor.width': tw,\n",
    "               'ytick.major.width': tw, 'ytick.minor.width': tw})\n",
    "\n",
    "mpl.rc('xtick', labelsize=18) \n",
    "mpl.rc('ytick', labelsize=18)\n",
    "mpl.rc('axes', linewidth=1.75)\n",
    "plt.gcf().subplots_adjust(bottom=0.15)\n",
    "sns.set_style({'axes.labelsize': 24})\n",
    "\n",
    "\n",
    "%matplotlib inline\n",
    "# This enables high res graphics inline\n",
    "%config InlineBackend.figure_format = 'svg'\n"
   ]
  },
  {
   "cell_type": "markdown",
   "metadata": {},
   "source": [
    "In this Jupyter notebook, we will fit the flow cytometry results from sfYFP with KDEs, assign individual cells to peaks, then determine the fractions that are 'on' and 'off' in each well. These fractions will be combined with the results from the second multi-dilution T7 differentiation experiment to generate the flow cytometry portion of figure 4. Thoug 0uM IPTG was included as a concentration during these experiments and in the peak detection/assignment, we will not use it in generating figures. Code below is modified from code kindly provided by Andy Halleran on the Github repositiory: https://github.com/andyhalleran/flow_tools/. Functions with 'RW' have been modified from the original code available on this repository, or are new functions."
   ]
  },
  {
   "cell_type": "code",
   "execution_count": 2,
   "metadata": {
    "collapsed": true
   },
   "outputs": [],
   "source": [
    "def get_values(file_directory, channel='GFP/FITC-A',bg_add=0):\n",
    "    ''' Reads in the values from a specific channel for a given flow file.\n",
    "    Defaults to taking GFP/FITC-A.'''\n",
    "    flow_data = pd.read_csv(file_directory)\n",
    "#     if (flow_data[channel].values<0).any():\n",
    "#         print(channel)\n",
    "#         print(flow_data[channel].min())\n",
    "#         flow_data[channel] = flow_data[channel] - flow_data[channel].min() + 1\n",
    "    \n",
    "    flow_data_gfp_values = np.log10(flow_data[channel].values + bg_add)\n",
    "    return flow_data_gfp_values\n"
   ]
  },
  {
   "cell_type": "code",
   "execution_count": 3,
   "metadata": {
    "collapsed": true
   },
   "outputs": [],
   "source": [
    "def make_df(file_directory, channel='GFP/FITC-A'):\n",
    "    '''Creates a dataframe from the given file directory. Reads in all csvs, \n",
    "    extracts the data from the channel of interest (defaults to GFP/FITC-A), \n",
    "    and returns one dataframe.'''\n",
    "    all_files = glob.glob(file_directory)\n",
    "    all_files.sort()\n",
    "    \n",
    "    all_data = []\n",
    "    for file in all_files:\n",
    "        data = get_values(file, channel)\n",
    "        all_data.append(data)\n",
    "    \n",
    "    labels = []\n",
    "    for i in range(0, len(all_files)):\n",
    "        mini_label = str(all_files[i].split('.')[-2][-3:])\n",
    "        label = [mini_label]*len(all_data[i])\n",
    "        labels.append(label)\n",
    "    \n",
    "    flat_all_data = [item for sublist in all_data for item in sublist]\n",
    "    flat_labels = [item for sublist in labels for item in sublist]\n",
    "    \n",
    "    df = pd.DataFrame(dict(well=flat_labels, log10GFP=flat_all_data))\n",
    "    return df\n",
    "        "
   ]
  },
  {
   "cell_type": "code",
   "execution_count": 4,
   "metadata": {
    "collapsed": true
   },
   "outputs": [],
   "source": [
    "def get_peak_locations_from_KDE_fit(data):\n",
    "    ''' Performs a KDE fit and then uses scipy.signal.find_peaks_cwt to get peaks.\n",
    "        The KDE bandwith parameter is critical, and 0.25 has worked well in the past.\n",
    "        If it feels like you are missing many peak calls, decrease the bandwith. If it feels\n",
    "        like you are having too many peak calls, increase the bandwith. \n",
    "        \n",
    "        Don't change the bandwith without good reason, it took awhile to decide on 0.25. '''\n",
    "    \n",
    "    kde = KernelDensity(bandwidth=0.25, kernel='gaussian')\n",
    "    kde.fit(data[:, None]);\n",
    "\n",
    "    x_range = np.linspace(0, 6, 1200)\n",
    "    kde_estimates = np.exp(kde.score_samples(x_range[:, None]))\n",
    "\n",
    "    #Use the SciPy function to get the KDE peaks\n",
    "    peaks = signal.find_peaks_cwt(kde_estimates, np.arange(30, 200), min_snr=1)\n",
    "\n",
    "    means_init = []\n",
    "    \n",
    "    for peak in peaks:\n",
    "        means_init.append(x_range[peak])\n",
    "    \n",
    "    return means_init\n",
    "\n"
   ]
  },
  {
   "cell_type": "code",
   "execution_count": 5,
   "metadata": {
    "collapsed": true
   },
   "outputs": [],
   "source": [
    "def fit_GMM_KDE_RW(data, peaks, threshold = 0.01): \n",
    "    \"\"\"Generate a Gaussian mixture model from the output\n",
    "    of a Gaussian Kernel Density Estimation. \n",
    "    Outputs the mean of the on peak, fraction on, mean of the off peak, \n",
    "    and fraction off. This version of the code assumes all cells not in the on peak are off!\n",
    "    This is obviously only a good assumption for uni/bimodal data. If you have multimodal data,\n",
    "    do not use this code.\"\"\"\n",
    "    \n",
    "    data = data.reshape(len(data), 1)\n",
    "    \n",
    "    peaks = np.array(peaks).reshape(len(peaks), 1)\n",
    "    opt_gmm = GaussianMixture(n_components = len(peaks) , means_init = peaks).fit(data)  \n",
    "    \n",
    "    labels = opt_gmm.predict(data)\n",
    "    labels = np.ravel(labels.reshape(len(labels), 1))\n",
    "\n",
    "    means = opt_gmm.means_\n",
    "\n",
    "    df = pd.DataFrame({'gfp': np.ravel(data), 'distribution': labels})\n",
    "    \n",
    "    df.head(10)\n",
    "    counts = []\n",
    "    means = []\n",
    "    \n",
    "    \n",
    "    \n",
    "    for i in range(0, len(peaks)):\n",
    "        df_distro = df.loc[df['distribution']==i]\n",
    "        counts.append(len(df_distro))\n",
    "        means.append(np.mean(df_distro['gfp'].values))\n",
    "\n",
    "    print('counts = ', counts)\n",
    "    print('means = ', means)\n",
    "    total = len(df)\n",
    "    \n",
    "    fractions = np.array(counts)/total\n",
    "    \n",
    "    ##Initializing corrected lists of means and fractions of subpopulations\n",
    "    GMM_accepted_means = []\n",
    "    \n",
    "    GMM_corrected_fractions = []\n",
    "    \n",
    "    for i in range(0, len(fractions)):\n",
    "        if fractions[i] > threshold: \n",
    "            GMM_accepted_means.append(means[i])\n",
    "            GMM_corrected_fractions.append(fractions[i])    \n",
    "    \n",
    "    return GMM_accepted_means, GMM_corrected_fractions"
   ]
  },
  {
   "cell_type": "code",
   "execution_count": 6,
   "metadata": {
    "collapsed": true
   },
   "outputs": [],
   "source": [
    "def fit_GMM_KDE_wrapper_RW(data):\n",
    "    \"\"\"Wrapper function to get both the peaks from a KDE fit, and then \n",
    "    from the Gaussian mixture model. Returns the mean of the broken cells, \n",
    "    and the fraction of broken cells.\"\"\"\n",
    "    \n",
    "    peak_locations= get_peak_locations_from_KDE_fit(data)\n",
    "    \n",
    "    means, fractions = fit_GMM_KDE_RW(data, peak_locations, threshold = 0.01)\n",
    "    \n",
    "    return means, fractions"
   ]
  },
  {
   "cell_type": "code",
   "execution_count": 7,
   "metadata": {
    "collapsed": true
   },
   "outputs": [],
   "source": [
    "def GMM_method_RW(df_, wells):\n",
    "    '''Wrapper function for the the entire generation of the final output df. \n",
    "    Takes the input dataframe and a list of all wells you want to perform GMM fitting on.\n",
    "    '''\n",
    "    means_df = []\n",
    "    fractions_df = []\n",
    "    wells_df = []\n",
    "    \n",
    "    for well in wells:\n",
    "        data = df_.loc[df_['well'] == well]\n",
    "        \n",
    "        YFP = data['log10GFP'].values\n",
    "        if len(YFP)<1000:\n",
    "            print('error: well ' + well + 'has too few cells')\n",
    "        else:\n",
    "            means, fractions = fit_GMM_KDE_wrapper_RW(YFP)\n",
    "\n",
    "            means_df = means_df + means\n",
    "            fractions_df = fractions_df + fractions\n",
    "            wells_df = wells_df + len(means)*[well,]\n",
    "        \n",
    "\n",
    "    plt_df = pd.DataFrame({'mean': means_df, 'fraction' : fractions_df,\n",
    "                           'well': wells_df})\n",
    "    \n",
    "    return plt_df"
   ]
  },
  {
   "cell_type": "code",
   "execution_count": 8,
   "metadata": {
    "collapsed": true
   },
   "outputs": [],
   "source": [
    "def plot_flow_peaks(ax,df,wells,conditions,colors,offsets=np.array([-0.2,-0.1,0,0.1,0.2]),\n",
    "                   xticks=np.arange(10)):\n",
    "    x_plot = []\n",
    "    y_plot = []\n",
    "    sizes_plot = []\n",
    "    colors_plot = []\n",
    "    for i, well in enumerate(wells):\n",
    "        well_peaks = df.loc[df.well==well]\n",
    "        for j in range(len(well_peaks)):\n",
    "            condition = well_peaks.iloc[j]['condition']\n",
    "            loc = np.argwhere(conditions==condition).flatten()[0]\n",
    "            x_plot += [well_peaks.iloc[j]['plate'] + offsets[loc],]\n",
    "            y_plot += [well_peaks.iloc[j]['mean'],]\n",
    "            sizes_plot += [well_peaks.iloc[j]['fraction']*100,] \n",
    "            colors_plot += [colors[loc],]\n",
    "            \n",
    "    ax.set_xticks(xticks)\n",
    "    ax.scatter(x_plot, y_plot, s=sizes_plot, c=np.array(colors_plot),alpha=0.5)\n",
    "    return ax"
   ]
  },
  {
   "cell_type": "code",
   "execution_count": 9,
   "metadata": {
    "collapsed": true
   },
   "outputs": [],
   "source": [
    "def get_frac_on(df, w, on_thresh=2.5):\n",
    "    wells_df = []\n",
    "    frac_on_df = []\n",
    "    on_mean_df = []\n",
    "    for i, well in enumerate(w):\n",
    "        peaks = df.loc[df.well==well]\n",
    "        fracs = df.loc[(df.well==well) & (df['mean']>on_thresh),'fraction'].values\n",
    "        means = df.loc[(df.well==well) & (df['mean']>on_thresh),'mean'].values\n",
    "        if fracs.sum() == 0:\n",
    "            frac_on = 0\n",
    "            weighted_mean_on = np.nan\n",
    "        else:\n",
    "            weighted_mean_on = np.log10((np.power(10,means)*fracs).sum())\n",
    "            frac_on = fracs.sum()\n",
    "        wells_df += [well,]\n",
    "        frac_on_df += [frac_on,]\n",
    "        on_mean_df += [weighted_mean_on,]\n",
    "        \n",
    "    frac_df = pd.DataFrame({'mean': on_mean_df, 'fraction' : frac_on_df,\n",
    "                       'well': wells_df})  \n",
    "    return frac_df                "
   ]
  },
  {
   "cell_type": "code",
   "execution_count": 10,
   "metadata": {
    "collapsed": true
   },
   "outputs": [],
   "source": [
    "def select_wells(df, wells):\n",
    "    for i, well in enumerate(wells):\n",
    "\n",
    "        if i == 0:\n",
    "            df_select = df.loc[df.well==well,:]\n",
    "        else:\n",
    "            df_add = df.loc[df.well==well,:]\n",
    "            df_select = pd.concat([df_select, df_add])\n",
    "    return df_select\n",
    "\n",
    "def add_metadata(df, metadata_fs, cols=['strain','sal','las','iptg','chlor','replicate']):\n",
    "    wells = df.well.unique()\n",
    "    metadata = pd.read_csv(metadata_fs)\n",
    "    df_return = df.copy()\n",
    "    \n",
    "    for i, col in enumerate(cols):\n",
    "        df_return[col] = -1\n",
    "    df_return['condition'] = 'blank'\n",
    "    for i, well in enumerate(wells):\n",
    "        for j, col in enumerate(cols):\n",
    "            df_return.loc[df_return.well==well,col] = metadata.loc[metadata.well==well,col].values[0]\n",
    "        if metadata.loc[metadata.well==well,'strain'].values[0] == 'ctrl':\n",
    "            df_return.loc[df_return.well==well,'condition'] = 'naive'\n",
    "        elif metadata.loc[metadata.well==well,'strain'].values[0] == 'stem':\n",
    "            if metadata.loc[metadata.well==well,'chlor'].values[0] == '+':\n",
    "                df_return.loc[df_return.well==well,'condition'] = \\\n",
    "                    str(metadata.loc[metadata.well==well,'sal'].values[0]) + ' sal' + ' +chlor'\n",
    "            elif metadata.loc[metadata.well==well,'chlor'].values[0] == '-':\n",
    "                df_return.loc[df_return.well==well,'condition'] = \\\n",
    "                    str(metadata.loc[metadata.well==well,'sal'].values[0]) + ' sal'\n",
    "            else:\n",
    "                print('somethin is wrong')\n",
    "                \n",
    "    return df_return\n",
    "   \n",
    "def select_add_metadata(df, metadata_fs, wells, cols=['strain','sal','las','iptg','chlor','replicate']):\n",
    "    df = select_wells(df, wells)\n",
    "    \n",
    "    return add_metadata(df, metadata_fs, cols=cols)"
   ]
  },
  {
   "cell_type": "code",
   "execution_count": 38,
   "metadata": {
    "collapsed": true
   },
   "outputs": [],
   "source": [
    "# Initialize the list of wells that you have data files for and wish to fit with GMMs\n",
    "wells = ['A01', 'B01', 'C01', 'D01', 'E01', 'F01', 'G01', 'H01',\n",
    "         'A02', 'B02', 'C02', 'D02', 'E02', 'F02', 'G02', 'H02',\n",
    "         'A03', 'B03', 'C03', 'D03', 'E03', 'F03', 'G03', 'H03',\n",
    "         'A04', 'B04', 'C04', 'D04', 'E04', 'F04', 'G04', 'H04',\n",
    "         'A05', 'B05', 'C05', 'D05', 'E05', 'F05', 'G05', 'H05',\n",
    "         'A06', 'B06', 'C06', 'D06', 'E06', 'F06', 'G06', 'H06',\n",
    "         'A07', 'B07', 'C07', 'D07', 'E07', 'F07', 'G07', 'H07',\n",
    "         'A08', 'B08', 'C08', 'D08', 'E08', 'F08', 'G08', 'H08',\n",
    "         'A09', 'B09', 'C09', 'D09', 'E09', 'F09', 'G09', 'H09',\n",
    "         'A10', 'B10', 'C10', 'D10', 'E10', 'F10', 'G10', 'H10',\n",
    "         'A11', 'B11', 'C11', 'D11', 'E11', 'F11', 'G11', 'H11']\n",
    "\n",
    "wells2 = ['A01', 'B01', 'C01', 'D01', 'E01', 'F01', 'G01', 'H01',\n",
    "         'A02', 'B02', 'C02', 'D02', 'E02', 'F02', 'G02', 'H02',\n",
    "         'A03', 'B03', 'C03', 'D03', 'E03', 'F03', 'G03', 'H03',\n",
    "         'A06', 'B06', 'C06', 'D06', 'E06', 'F06', 'G06', 'H06',\n",
    "         'A07', 'B07', 'C07', 'D07', 'E07', 'F07', 'G07', 'H07',\n",
    "         'A08', 'B08', 'C08', 'D08', 'E08', 'F08', 'G08', 'H08',\n",
    "         'A11', 'B11', 'C11', 'D11', 'E11', 'F11', 'G11', 'H11']\n",
    "\n",
    "wells3 = ['A01', 'B01', 'C01', 'D01', 'E01', 'F01', 'G01', 'H01',\n",
    "         'A02', 'B02', 'C02', 'D02', 'E02', 'F02', 'G02', 'H02',\n",
    "         'A06', 'B06', 'C06', 'D06', 'E06', 'F06', 'G06', 'H06',\n",
    "         'A07', 'B07', 'C07', 'D07', 'E07', 'F07', 'G07', 'H07',\n",
    "         'A11', 'B11', 'C11', 'D11', 'E11', 'F11', 'G11', 'H11']"
   ]
  },
  {
   "cell_type": "code",
   "execution_count": 12,
   "metadata": {},
   "outputs": [
    {
     "name": "stderr",
     "output_type": "stream",
     "text": [
      "/Users/rorywilliams/anaconda/lib/python3.5/site-packages/ipykernel/__main__.py:10: RuntimeWarning: invalid value encountered in log10\n"
     ]
    }
   ],
   "source": [
    "#Read in the tidied data generated by \"ADH_automatic_flow_gating_and_well_labeling.ipynb\"\n",
    "# The input for make_df is the directory that you want automatic fractions generated for. \n",
    "input_df_plate1 = make_df('./flow/plate1/tidy/*.csv',channel='GFP/FITC-A')\n",
    "input_df_plate1 = input_df_plate1.loc[(0<input_df_plate1.log10GFP) & \\\n",
    "                                      (input_df_plate1.log10GFP<5),:]\n",
    "input_df_plate1 = input_df_plate1.dropna()\n",
    "\n",
    "input_df_plate2 = make_df('./flow/plate2/tidy/*.csv',channel='GFP/FITC-A')\n",
    "input_df_plate2 = input_df_plate2.loc[(input_df_plate2.log10GFP>0) & \\\n",
    "                                      (input_df_plate2.log10GFP<5),:]\n",
    "input_df_plate2 = input_df_plate2.dropna()\n",
    "\n",
    "input_df_plate3 = make_df('./flow/plate3/tidy/*.csv',channel='GFP/FITC-A')\n",
    "input_df_plate3 = input_df_plate3.loc[(input_df_plate3.log10GFP>0) & \\\n",
    "                                      (input_df_plate3.log10GFP<5),:]\n",
    "input_df_plate3 = input_df_plate3.dropna()\n",
    "\n",
    "input_df_plate4 = make_df('./flow/plate4/tidy/*.csv',channel='GFP/FITC-A')\n",
    "input_df_plate4 = input_df_plate4.loc[(input_df_plate4.log10GFP>0) & \\\n",
    "                                      (input_df_plate4.log10GFP<5),:]\n",
    "input_df_plate4 = input_df_plate4.dropna()\n",
    "\n",
    "input_df_plate5 = make_df('./flow/plate5/tidy/*.csv',channel='GFP/FITC-A')\n",
    "input_df_plate5 = input_df_plate5.loc[(input_df_plate5.log10GFP>0) & \\\n",
    "                                      (input_df_plate5.log10GFP<5),:]\n",
    "input_df_plate5 = input_df_plate5.dropna()\n",
    "\n",
    "input_df_plate6 = make_df('./flow/plate6/tidy/*.csv',channel='GFP/FITC-A')\n",
    "input_df_plate6 = input_df_plate6.loc[(input_df_plate6.log10GFP>0) & \\\n",
    "                                      (input_df_plate6.log10GFP<5),:]\n",
    "input_df_plate6 = input_df_plate6.dropna()\n",
    "\n",
    "input_df_plate7 = make_df('./flow/plate7/tidy/*.csv',channel='GFP/FITC-A')\n",
    "input_df_plate7 = input_df_plate7.loc[(input_df_plate7.log10GFP>0) & \\\n",
    "                                      (input_df_plate7.log10GFP<5),:]\n",
    "input_df_plate7 = input_df_plate7.dropna()\n",
    "\n",
    "input_df_plate8 = make_df('./flow/plate8/tidy/*.csv',channel='GFP/FITC-A')\n",
    "input_df_plate8 = input_df_plate8.loc[(input_df_plate8.log10GFP>0) & \\\n",
    "                                      (input_df_plate8.log10GFP<5),:]\n",
    "input_df_plate8 = input_df_plate8.dropna()\n",
    "\n",
    "input_df_plate9 = make_df('./flow/plate9/tidy/*.csv',channel='GFP/FITC-A')\n",
    "input_df_plate9 = input_df_plate8.loc[(input_df_plate8.log10GFP>0) & \\\n",
    "                                      (input_df_plate8.log10GFP<5),:]\n",
    "input_df_plate9 = input_df_plate8.dropna()"
   ]
  },
  {
   "cell_type": "code",
   "execution_count": 42,
   "metadata": {},
   "outputs": [
    {
     "name": "stderr",
     "output_type": "stream",
     "text": [
      "/Users/rorywilliams/anaconda/lib/python3.5/site-packages/ipykernel/__main__.py:10: RuntimeWarning: invalid value encountered in log10\n"
     ]
    }
   ],
   "source": [
    "input_df_plate4 = make_df('./flow/plate4/tidy/*.csv',channel='GFP/FITC-A')\n",
    "input_df_plate4 = input_df_plate4.loc[(input_df_plate4.log10GFP>0) & \\\n",
    "                                      (input_df_plate4.log10GFP<5),:]\n",
    "input_df_plate4 = input_df_plate4.dropna()\n",
    "\n",
    "input_df_plate5 = make_df('./flow/plate5/tidy/*.csv',channel='GFP/FITC-A')\n",
    "input_df_plate5 = input_df_plate5.loc[(input_df_plate5.log10GFP>0) & \\\n",
    "                                      (input_df_plate5.log10GFP<5),:]\n",
    "input_df_plate5 = input_df_plate5.dropna()"
   ]
  },
  {
   "cell_type": "code",
   "execution_count": 43,
   "metadata": {},
   "outputs": [
    {
     "name": "stderr",
     "output_type": "stream",
     "text": [
      "/Users/rorywilliams/anaconda/lib/python3.5/site-packages/scipy/stats/stats.py:1713: FutureWarning: Using a non-tuple sequence for multidimensional indexing is deprecated; use `arr[tuple(seq)]` instead of `arr[seq]`. In the future this will be interpreted as an array index, `arr[np.array(seq)]`, which will result either in an error or a different result.\n",
      "  return np.add.reduce(sorted[indexer] * weights, axis=axis) / sumval\n"
     ]
    },
    {
     "name": "stdout",
     "output_type": "stream",
     "text": [
      "counts =  [48444]\n",
      "means =  [2.5940319900263638]\n"
     ]
    },
    {
     "name": "stderr",
     "output_type": "stream",
     "text": [
      "/Users/rorywilliams/anaconda/lib/python3.5/site-packages/scipy/stats/stats.py:1713: FutureWarning: Using a non-tuple sequence for multidimensional indexing is deprecated; use `arr[tuple(seq)]` instead of `arr[seq]`. In the future this will be interpreted as an array index, `arr[np.array(seq)]`, which will result either in an error or a different result.\n",
      "  return np.add.reduce(sorted[indexer] * weights, axis=axis) / sumval\n"
     ]
    },
    {
     "name": "stdout",
     "output_type": "stream",
     "text": [
      "counts =  [15320, 30715]\n",
      "means =  [1.8471904250686033, 3.674879655529245]\n"
     ]
    },
    {
     "name": "stderr",
     "output_type": "stream",
     "text": [
      "/Users/rorywilliams/anaconda/lib/python3.5/site-packages/scipy/stats/stats.py:1713: FutureWarning: Using a non-tuple sequence for multidimensional indexing is deprecated; use `arr[tuple(seq)]` instead of `arr[seq]`. In the future this will be interpreted as an array index, `arr[np.array(seq)]`, which will result either in an error or a different result.\n",
      "  return np.add.reduce(sorted[indexer] * weights, axis=axis) / sumval\n"
     ]
    },
    {
     "name": "stdout",
     "output_type": "stream",
     "text": [
      "counts =  [35113, 10575]\n",
      "means =  [1.8244184513960602, 3.8656590563868565]\n"
     ]
    },
    {
     "name": "stderr",
     "output_type": "stream",
     "text": [
      "/Users/rorywilliams/anaconda/lib/python3.5/site-packages/scipy/stats/stats.py:1713: FutureWarning: Using a non-tuple sequence for multidimensional indexing is deprecated; use `arr[tuple(seq)]` instead of `arr[seq]`. In the future this will be interpreted as an array index, `arr[np.array(seq)]`, which will result either in an error or a different result.\n",
      "  return np.add.reduce(sorted[indexer] * weights, axis=axis) / sumval\n"
     ]
    },
    {
     "name": "stdout",
     "output_type": "stream",
     "text": [
      "counts =  [43225, 3344, 802]\n",
      "means =  [1.8584167907054574, 3.4873522141395368, 4.541936365900484]\n"
     ]
    },
    {
     "name": "stderr",
     "output_type": "stream",
     "text": [
      "/Users/rorywilliams/anaconda/lib/python3.5/site-packages/scipy/stats/stats.py:1713: FutureWarning: Using a non-tuple sequence for multidimensional indexing is deprecated; use `arr[tuple(seq)]` instead of `arr[seq]`. In the future this will be interpreted as an array index, `arr[np.array(seq)]`, which will result either in an error or a different result.\n",
      "  return np.add.reduce(sorted[indexer] * weights, axis=axis) / sumval\n"
     ]
    },
    {
     "name": "stdout",
     "output_type": "stream",
     "text": [
      "counts =  [48077]\n",
      "means =  [2.5629998559972456]\n"
     ]
    },
    {
     "name": "stderr",
     "output_type": "stream",
     "text": [
      "/Users/rorywilliams/anaconda/lib/python3.5/site-packages/scipy/stats/stats.py:1713: FutureWarning: Using a non-tuple sequence for multidimensional indexing is deprecated; use `arr[tuple(seq)]` instead of `arr[seq]`. In the future this will be interpreted as an array index, `arr[np.array(seq)]`, which will result either in an error or a different result.\n",
      "  return np.add.reduce(sorted[indexer] * weights, axis=axis) / sumval\n"
     ]
    },
    {
     "name": "stdout",
     "output_type": "stream",
     "text": [
      "counts =  [16778, 29135]\n",
      "means =  [1.8485363248499869, 3.6553687544397384]\n"
     ]
    },
    {
     "name": "stderr",
     "output_type": "stream",
     "text": [
      "/Users/rorywilliams/anaconda/lib/python3.5/site-packages/scipy/stats/stats.py:1713: FutureWarning: Using a non-tuple sequence for multidimensional indexing is deprecated; use `arr[tuple(seq)]` instead of `arr[seq]`. In the future this will be interpreted as an array index, `arr[np.array(seq)]`, which will result either in an error or a different result.\n",
      "  return np.add.reduce(sorted[indexer] * weights, axis=axis) / sumval\n"
     ]
    },
    {
     "name": "stdout",
     "output_type": "stream",
     "text": [
      "counts =  [33526, 12357]\n",
      "means =  [1.834129848196821, 3.756003078328448]\n"
     ]
    },
    {
     "name": "stderr",
     "output_type": "stream",
     "text": [
      "/Users/rorywilliams/anaconda/lib/python3.5/site-packages/scipy/stats/stats.py:1713: FutureWarning: Using a non-tuple sequence for multidimensional indexing is deprecated; use `arr[tuple(seq)]` instead of `arr[seq]`. In the future this will be interpreted as an array index, `arr[np.array(seq)]`, which will result either in an error or a different result.\n",
      "  return np.add.reduce(sorted[indexer] * weights, axis=axis) / sumval\n"
     ]
    },
    {
     "name": "stdout",
     "output_type": "stream",
     "text": [
      "counts =  [38140, 6619, 1063]\n",
      "means =  [1.8317073564787112, 3.545239346467748, 4.577611849018385]\n"
     ]
    },
    {
     "name": "stderr",
     "output_type": "stream",
     "text": [
      "/Users/rorywilliams/anaconda/lib/python3.5/site-packages/scipy/stats/stats.py:1713: FutureWarning: Using a non-tuple sequence for multidimensional indexing is deprecated; use `arr[tuple(seq)]` instead of `arr[seq]`. In the future this will be interpreted as an array index, `arr[np.array(seq)]`, which will result either in an error or a different result.\n",
      "  return np.add.reduce(sorted[indexer] * weights, axis=axis) / sumval\n"
     ]
    },
    {
     "name": "stdout",
     "output_type": "stream",
     "text": [
      "counts =  [49228]\n",
      "means =  [2.6884313974405756]\n"
     ]
    },
    {
     "name": "stderr",
     "output_type": "stream",
     "text": [
      "/Users/rorywilliams/anaconda/lib/python3.5/site-packages/scipy/stats/stats.py:1713: FutureWarning: Using a non-tuple sequence for multidimensional indexing is deprecated; use `arr[tuple(seq)]` instead of `arr[seq]`. In the future this will be interpreted as an array index, `arr[np.array(seq)]`, which will result either in an error or a different result.\n",
      "  return np.add.reduce(sorted[indexer] * weights, axis=axis) / sumval\n"
     ]
    },
    {
     "name": "stdout",
     "output_type": "stream",
     "text": [
      "counts =  [655, 48481]\n",
      "means =  [2.027471612475847, 3.6725961518473786]\n"
     ]
    },
    {
     "name": "stderr",
     "output_type": "stream",
     "text": [
      "/Users/rorywilliams/anaconda/lib/python3.5/site-packages/scipy/stats/stats.py:1713: FutureWarning: Using a non-tuple sequence for multidimensional indexing is deprecated; use `arr[tuple(seq)]` instead of `arr[seq]`. In the future this will be interpreted as an array index, `arr[np.array(seq)]`, which will result either in an error or a different result.\n",
      "  return np.add.reduce(sorted[indexer] * weights, axis=axis) / sumval\n"
     ]
    },
    {
     "name": "stdout",
     "output_type": "stream",
     "text": [
      "counts =  [45636, 1584]\n",
      "means =  [1.8120553029969564, 4.0986139436575035]\n"
     ]
    },
    {
     "name": "stderr",
     "output_type": "stream",
     "text": [
      "/Users/rorywilliams/anaconda/lib/python3.5/site-packages/scipy/stats/stats.py:1713: FutureWarning: Using a non-tuple sequence for multidimensional indexing is deprecated; use `arr[tuple(seq)]` instead of `arr[seq]`. In the future this will be interpreted as an array index, `arr[np.array(seq)]`, which will result either in an error or a different result.\n",
      "  return np.add.reduce(sorted[indexer] * weights, axis=axis) / sumval\n"
     ]
    },
    {
     "name": "stdout",
     "output_type": "stream",
     "text": [
      "counts =  [37549, 6347, 1338]\n",
      "means =  [1.775438598960124, 3.621520692221853, 4.623025075882508]\n"
     ]
    },
    {
     "name": "stderr",
     "output_type": "stream",
     "text": [
      "/Users/rorywilliams/anaconda/lib/python3.5/site-packages/scipy/stats/stats.py:1713: FutureWarning: Using a non-tuple sequence for multidimensional indexing is deprecated; use `arr[tuple(seq)]` instead of `arr[seq]`. In the future this will be interpreted as an array index, `arr[np.array(seq)]`, which will result either in an error or a different result.\n",
      "  return np.add.reduce(sorted[indexer] * weights, axis=axis) / sumval\n"
     ]
    },
    {
     "name": "stdout",
     "output_type": "stream",
     "text": [
      "counts =  [49329]\n",
      "means =  [2.7272429266122113]\n"
     ]
    },
    {
     "name": "stderr",
     "output_type": "stream",
     "text": [
      "/Users/rorywilliams/anaconda/lib/python3.5/site-packages/scipy/stats/stats.py:1713: FutureWarning: Using a non-tuple sequence for multidimensional indexing is deprecated; use `arr[tuple(seq)]` instead of `arr[seq]`. In the future this will be interpreted as an array index, `arr[np.array(seq)]`, which will result either in an error or a different result.\n",
      "  return np.add.reduce(sorted[indexer] * weights, axis=axis) / sumval\n"
     ]
    },
    {
     "name": "stdout",
     "output_type": "stream",
     "text": [
      "counts =  [511, 48796]\n",
      "means =  [1.9706080580079985, 3.678794902464328]\n"
     ]
    },
    {
     "name": "stderr",
     "output_type": "stream",
     "text": [
      "/Users/rorywilliams/anaconda/lib/python3.5/site-packages/scipy/stats/stats.py:1713: FutureWarning: Using a non-tuple sequence for multidimensional indexing is deprecated; use `arr[tuple(seq)]` instead of `arr[seq]`. In the future this will be interpreted as an array index, `arr[np.array(seq)]`, which will result either in an error or a different result.\n",
      "  return np.add.reduce(sorted[indexer] * weights, axis=axis) / sumval\n"
     ]
    },
    {
     "name": "stdout",
     "output_type": "stream",
     "text": [
      "counts =  [44365, 2349]\n",
      "means =  [1.7696344170899974, 3.9379444415402185]\n"
     ]
    },
    {
     "name": "stderr",
     "output_type": "stream",
     "text": [
      "/Users/rorywilliams/anaconda/lib/python3.5/site-packages/scipy/stats/stats.py:1713: FutureWarning: Using a non-tuple sequence for multidimensional indexing is deprecated; use `arr[tuple(seq)]` instead of `arr[seq]`. In the future this will be interpreted as an array index, `arr[np.array(seq)]`, which will result either in an error or a different result.\n",
      "  return np.add.reduce(sorted[indexer] * weights, axis=axis) / sumval\n"
     ]
    },
    {
     "name": "stdout",
     "output_type": "stream",
     "text": [
      "counts =  [20584, 21892]\n",
      "means =  [1.6427853746350243, 3.719039549866014]\n"
     ]
    },
    {
     "name": "stderr",
     "output_type": "stream",
     "text": [
      "/Users/rorywilliams/anaconda/lib/python3.5/site-packages/scipy/stats/stats.py:1713: FutureWarning: Using a non-tuple sequence for multidimensional indexing is deprecated; use `arr[tuple(seq)]` instead of `arr[seq]`. In the future this will be interpreted as an array index, `arr[np.array(seq)]`, which will result either in an error or a different result.\n",
      "  return np.add.reduce(sorted[indexer] * weights, axis=axis) / sumval\n"
     ]
    },
    {
     "name": "stdout",
     "output_type": "stream",
     "text": [
      "counts =  [47752]\n",
      "means =  [2.3588753513023417]\n"
     ]
    },
    {
     "name": "stderr",
     "output_type": "stream",
     "text": [
      "/Users/rorywilliams/anaconda/lib/python3.5/site-packages/scipy/stats/stats.py:1713: FutureWarning: Using a non-tuple sequence for multidimensional indexing is deprecated; use `arr[tuple(seq)]` instead of `arr[seq]`. In the future this will be interpreted as an array index, `arr[np.array(seq)]`, which will result either in an error or a different result.\n",
      "  return np.add.reduce(sorted[indexer] * weights, axis=axis) / sumval\n"
     ]
    },
    {
     "name": "stdout",
     "output_type": "stream",
     "text": [
      "counts =  [14178, 32036]\n",
      "means =  [1.7863133218876677, 3.6385522813474114]\n"
     ]
    },
    {
     "name": "stderr",
     "output_type": "stream",
     "text": [
      "/Users/rorywilliams/anaconda/lib/python3.5/site-packages/scipy/stats/stats.py:1713: FutureWarning: Using a non-tuple sequence for multidimensional indexing is deprecated; use `arr[tuple(seq)]` instead of `arr[seq]`. In the future this will be interpreted as an array index, `arr[np.array(seq)]`, which will result either in an error or a different result.\n",
      "  return np.add.reduce(sorted[indexer] * weights, axis=axis) / sumval\n"
     ]
    },
    {
     "name": "stdout",
     "output_type": "stream",
     "text": [
      "counts =  [35308, 11050]\n",
      "means =  [1.8626723978316635, 3.9660125189967643]\n"
     ]
    },
    {
     "name": "stderr",
     "output_type": "stream",
     "text": [
      "/Users/rorywilliams/anaconda/lib/python3.5/site-packages/scipy/stats/stats.py:1713: FutureWarning: Using a non-tuple sequence for multidimensional indexing is deprecated; use `arr[tuple(seq)]` instead of `arr[seq]`. In the future this will be interpreted as an array index, `arr[np.array(seq)]`, which will result either in an error or a different result.\n",
      "  return np.add.reduce(sorted[indexer] * weights, axis=axis) / sumval\n"
     ]
    },
    {
     "name": "stdout",
     "output_type": "stream",
     "text": [
      "counts =  [42608, 3182, 888]\n",
      "means =  [1.840796181592988, 3.4779830558851814, 4.482542118623604]\n"
     ]
    },
    {
     "name": "stderr",
     "output_type": "stream",
     "text": [
      "/Users/rorywilliams/anaconda/lib/python3.5/site-packages/scipy/stats/stats.py:1713: FutureWarning: Using a non-tuple sequence for multidimensional indexing is deprecated; use `arr[tuple(seq)]` instead of `arr[seq]`. In the future this will be interpreted as an array index, `arr[np.array(seq)]`, which will result either in an error or a different result.\n",
      "  return np.add.reduce(sorted[indexer] * weights, axis=axis) / sumval\n"
     ]
    },
    {
     "name": "stdout",
     "output_type": "stream",
     "text": [
      "counts =  [47269]\n",
      "means =  [2.4606355067872685]\n"
     ]
    },
    {
     "name": "stderr",
     "output_type": "stream",
     "text": [
      "/Users/rorywilliams/anaconda/lib/python3.5/site-packages/scipy/stats/stats.py:1713: FutureWarning: Using a non-tuple sequence for multidimensional indexing is deprecated; use `arr[tuple(seq)]` instead of `arr[seq]`. In the future this will be interpreted as an array index, `arr[np.array(seq)]`, which will result either in an error or a different result.\n",
      "  return np.add.reduce(sorted[indexer] * weights, axis=axis) / sumval\n"
     ]
    },
    {
     "name": "stdout",
     "output_type": "stream",
     "text": [
      "counts =  [23520, 22637]\n",
      "means =  [1.804375981609629, 3.6126121533757978]\n"
     ]
    },
    {
     "name": "stderr",
     "output_type": "stream",
     "text": [
      "/Users/rorywilliams/anaconda/lib/python3.5/site-packages/scipy/stats/stats.py:1713: FutureWarning: Using a non-tuple sequence for multidimensional indexing is deprecated; use `arr[tuple(seq)]` instead of `arr[seq]`. In the future this will be interpreted as an array index, `arr[np.array(seq)]`, which will result either in an error or a different result.\n",
      "  return np.add.reduce(sorted[indexer] * weights, axis=axis) / sumval\n"
     ]
    },
    {
     "name": "stdout",
     "output_type": "stream",
     "text": [
      "counts =  [33537, 12178]\n",
      "means =  [1.8204300304151726, 3.921164271594426]\n"
     ]
    },
    {
     "name": "stderr",
     "output_type": "stream",
     "text": [
      "/Users/rorywilliams/anaconda/lib/python3.5/site-packages/scipy/stats/stats.py:1713: FutureWarning: Using a non-tuple sequence for multidimensional indexing is deprecated; use `arr[tuple(seq)]` instead of `arr[seq]`. In the future this will be interpreted as an array index, `arr[np.array(seq)]`, which will result either in an error or a different result.\n",
      "  return np.add.reduce(sorted[indexer] * weights, axis=axis) / sumval\n"
     ]
    },
    {
     "name": "stdout",
     "output_type": "stream",
     "text": [
      "counts =  [36790, 7756, 1129]\n",
      "means =  [1.7830684645451702, 3.4646589071888814, 4.50381906746528]\n"
     ]
    },
    {
     "name": "stderr",
     "output_type": "stream",
     "text": [
      "/Users/rorywilliams/anaconda/lib/python3.5/site-packages/scipy/stats/stats.py:1713: FutureWarning: Using a non-tuple sequence for multidimensional indexing is deprecated; use `arr[tuple(seq)]` instead of `arr[seq]`. In the future this will be interpreted as an array index, `arr[np.array(seq)]`, which will result either in an error or a different result.\n",
      "  return np.add.reduce(sorted[indexer] * weights, axis=axis) / sumval\n"
     ]
    },
    {
     "name": "stdout",
     "output_type": "stream",
     "text": [
      "counts =  [49410]\n",
      "means =  [2.6448292818972328]\n"
     ]
    },
    {
     "name": "stderr",
     "output_type": "stream",
     "text": [
      "/Users/rorywilliams/anaconda/lib/python3.5/site-packages/scipy/stats/stats.py:1713: FutureWarning: Using a non-tuple sequence for multidimensional indexing is deprecated; use `arr[tuple(seq)]` instead of `arr[seq]`. In the future this will be interpreted as an array index, `arr[np.array(seq)]`, which will result either in an error or a different result.\n",
      "  return np.add.reduce(sorted[indexer] * weights, axis=axis) / sumval\n"
     ]
    },
    {
     "name": "stdout",
     "output_type": "stream",
     "text": [
      "counts =  [1778, 47411]\n",
      "means =  [2.1327198613345564, 3.6159983099786905]\n"
     ]
    },
    {
     "name": "stderr",
     "output_type": "stream",
     "text": [
      "/Users/rorywilliams/anaconda/lib/python3.5/site-packages/scipy/stats/stats.py:1713: FutureWarning: Using a non-tuple sequence for multidimensional indexing is deprecated; use `arr[tuple(seq)]` instead of `arr[seq]`. In the future this will be interpreted as an array index, `arr[np.array(seq)]`, which will result either in an error or a different result.\n",
      "  return np.add.reduce(sorted[indexer] * weights, axis=axis) / sumval\n"
     ]
    },
    {
     "name": "stdout",
     "output_type": "stream",
     "text": [
      "counts =  [16490, 28962]\n",
      "means =  [1.750750225842254, 3.9247143907661215]\n"
     ]
    },
    {
     "name": "stderr",
     "output_type": "stream",
     "text": [
      "/Users/rorywilliams/anaconda/lib/python3.5/site-packages/scipy/stats/stats.py:1713: FutureWarning: Using a non-tuple sequence for multidimensional indexing is deprecated; use `arr[tuple(seq)]` instead of `arr[seq]`. In the future this will be interpreted as an array index, `arr[np.array(seq)]`, which will result either in an error or a different result.\n",
      "  return np.add.reduce(sorted[indexer] * weights, axis=axis) / sumval\n"
     ]
    },
    {
     "name": "stdout",
     "output_type": "stream",
     "text": [
      "counts =  [19348, 25053]\n",
      "means =  [1.6825146061445677, 3.6216692869417195]\n"
     ]
    },
    {
     "name": "stderr",
     "output_type": "stream",
     "text": [
      "/Users/rorywilliams/anaconda/lib/python3.5/site-packages/scipy/stats/stats.py:1713: FutureWarning: Using a non-tuple sequence for multidimensional indexing is deprecated; use `arr[tuple(seq)]` instead of `arr[seq]`. In the future this will be interpreted as an array index, `arr[np.array(seq)]`, which will result either in an error or a different result.\n",
      "  return np.add.reduce(sorted[indexer] * weights, axis=axis) / sumval\n"
     ]
    },
    {
     "name": "stdout",
     "output_type": "stream",
     "text": [
      "counts =  [49394]\n",
      "means =  [2.683021330045206]\n"
     ]
    },
    {
     "name": "stderr",
     "output_type": "stream",
     "text": [
      "/Users/rorywilliams/anaconda/lib/python3.5/site-packages/scipy/stats/stats.py:1713: FutureWarning: Using a non-tuple sequence for multidimensional indexing is deprecated; use `arr[tuple(seq)]` instead of `arr[seq]`. In the future this will be interpreted as an array index, `arr[np.array(seq)]`, which will result either in an error or a different result.\n",
      "  return np.add.reduce(sorted[indexer] * weights, axis=axis) / sumval\n"
     ]
    },
    {
     "name": "stdout",
     "output_type": "stream",
     "text": [
      "counts =  [49077]\n",
      "means =  [3.5478577257041937]\n"
     ]
    },
    {
     "name": "stderr",
     "output_type": "stream",
     "text": [
      "/Users/rorywilliams/anaconda/lib/python3.5/site-packages/scipy/stats/stats.py:1713: FutureWarning: Using a non-tuple sequence for multidimensional indexing is deprecated; use `arr[tuple(seq)]` instead of `arr[seq]`. In the future this will be interpreted as an array index, `arr[np.array(seq)]`, which will result either in an error or a different result.\n",
      "  return np.add.reduce(sorted[indexer] * weights, axis=axis) / sumval\n"
     ]
    },
    {
     "name": "stdout",
     "output_type": "stream",
     "text": [
      "counts =  [35448, 10062]\n",
      "means =  [1.712939488612469, 4.084876794174927]\n"
     ]
    },
    {
     "name": "stderr",
     "output_type": "stream",
     "text": [
      "/Users/rorywilliams/anaconda/lib/python3.5/site-packages/scipy/stats/stats.py:1713: FutureWarning: Using a non-tuple sequence for multidimensional indexing is deprecated; use `arr[tuple(seq)]` instead of `arr[seq]`. In the future this will be interpreted as an array index, `arr[np.array(seq)]`, which will result either in an error or a different result.\n",
      "  return np.add.reduce(sorted[indexer] * weights, axis=axis) / sumval\n"
     ]
    },
    {
     "name": "stdout",
     "output_type": "stream",
     "text": [
      "counts =  [8539, 36331]\n",
      "means =  [1.6902518582356392, 3.749264453620653]\n"
     ]
    },
    {
     "name": "stderr",
     "output_type": "stream",
     "text": [
      "/Users/rorywilliams/anaconda/lib/python3.5/site-packages/scipy/stats/stats.py:1713: FutureWarning: Using a non-tuple sequence for multidimensional indexing is deprecated; use `arr[tuple(seq)]` instead of `arr[seq]`. In the future this will be interpreted as an array index, `arr[np.array(seq)]`, which will result either in an error or a different result.\n",
      "  return np.add.reduce(sorted[indexer] * weights, axis=axis) / sumval\n"
     ]
    },
    {
     "name": "stdout",
     "output_type": "stream",
     "text": [
      "counts =  [49433]\n",
      "means =  [2.7481186061946277]\n"
     ]
    },
    {
     "name": "stderr",
     "output_type": "stream",
     "text": [
      "/Users/rorywilliams/anaconda/lib/python3.5/site-packages/scipy/stats/stats.py:1713: FutureWarning: Using a non-tuple sequence for multidimensional indexing is deprecated; use `arr[tuple(seq)]` instead of `arr[seq]`. In the future this will be interpreted as an array index, `arr[np.array(seq)]`, which will result either in an error or a different result.\n",
      "  return np.add.reduce(sorted[indexer] * weights, axis=axis) / sumval\n"
     ]
    },
    {
     "name": "stdout",
     "output_type": "stream",
     "text": [
      "counts =  [722, 48559]\n",
      "means =  [1.8883977713728466, 3.6847229689570264]\n"
     ]
    },
    {
     "name": "stderr",
     "output_type": "stream",
     "text": [
      "/Users/rorywilliams/anaconda/lib/python3.5/site-packages/scipy/stats/stats.py:1713: FutureWarning: Using a non-tuple sequence for multidimensional indexing is deprecated; use `arr[tuple(seq)]` instead of `arr[seq]`. In the future this will be interpreted as an array index, `arr[np.array(seq)]`, which will result either in an error or a different result.\n",
      "  return np.add.reduce(sorted[indexer] * weights, axis=axis) / sumval\n"
     ]
    },
    {
     "name": "stdout",
     "output_type": "stream",
     "text": [
      "counts =  [48829]\n",
      "means =  [1.9087614665390629]\n"
     ]
    },
    {
     "name": "stderr",
     "output_type": "stream",
     "text": [
      "/Users/rorywilliams/anaconda/lib/python3.5/site-packages/scipy/stats/stats.py:1713: FutureWarning: Using a non-tuple sequence for multidimensional indexing is deprecated; use `arr[tuple(seq)]` instead of `arr[seq]`. In the future this will be interpreted as an array index, `arr[np.array(seq)]`, which will result either in an error or a different result.\n",
      "  return np.add.reduce(sorted[indexer] * weights, axis=axis) / sumval\n"
     ]
    },
    {
     "name": "stdout",
     "output_type": "stream",
     "text": [
      "counts =  [48039, 214]\n",
      "means =  [1.8829709451534005, 3.7122930481079606]\n"
     ]
    },
    {
     "name": "stderr",
     "output_type": "stream",
     "text": [
      "/Users/rorywilliams/anaconda/lib/python3.5/site-packages/scipy/stats/stats.py:1713: FutureWarning: Using a non-tuple sequence for multidimensional indexing is deprecated; use `arr[tuple(seq)]` instead of `arr[seq]`. In the future this will be interpreted as an array index, `arr[np.array(seq)]`, which will result either in an error or a different result.\n",
      "  return np.add.reduce(sorted[indexer] * weights, axis=axis) / sumval\n"
     ]
    },
    {
     "name": "stdout",
     "output_type": "stream",
     "text": [
      "counts =  [49338]\n",
      "means =  [2.7405639150318084]\n"
     ]
    },
    {
     "name": "stderr",
     "output_type": "stream",
     "text": [
      "/Users/rorywilliams/anaconda/lib/python3.5/site-packages/scipy/stats/stats.py:1713: FutureWarning: Using a non-tuple sequence for multidimensional indexing is deprecated; use `arr[tuple(seq)]` instead of `arr[seq]`. In the future this will be interpreted as an array index, `arr[np.array(seq)]`, which will result either in an error or a different result.\n",
      "  return np.add.reduce(sorted[indexer] * weights, axis=axis) / sumval\n"
     ]
    },
    {
     "name": "stdout",
     "output_type": "stream",
     "text": [
      "counts =  [798, 48368]\n",
      "means =  [1.9395994867583184, 3.6586140398406686]\n"
     ]
    },
    {
     "name": "stderr",
     "output_type": "stream",
     "text": [
      "/Users/rorywilliams/anaconda/lib/python3.5/site-packages/scipy/stats/stats.py:1713: FutureWarning: Using a non-tuple sequence for multidimensional indexing is deprecated; use `arr[tuple(seq)]` instead of `arr[seq]`. In the future this will be interpreted as an array index, `arr[np.array(seq)]`, which will result either in an error or a different result.\n",
      "  return np.add.reduce(sorted[indexer] * weights, axis=axis) / sumval\n"
     ]
    },
    {
     "name": "stdout",
     "output_type": "stream",
     "text": [
      "counts =  [48545]\n",
      "means =  [1.9174439945889228]\n"
     ]
    },
    {
     "name": "stderr",
     "output_type": "stream",
     "text": [
      "/Users/rorywilliams/anaconda/lib/python3.5/site-packages/scipy/stats/stats.py:1713: FutureWarning: Using a non-tuple sequence for multidimensional indexing is deprecated; use `arr[tuple(seq)]` instead of `arr[seq]`. In the future this will be interpreted as an array index, `arr[np.array(seq)]`, which will result either in an error or a different result.\n",
      "  return np.add.reduce(sorted[indexer] * weights, axis=axis) / sumval\n"
     ]
    },
    {
     "name": "stdout",
     "output_type": "stream",
     "text": [
      "counts =  [48331, 210]\n",
      "means =  [1.9005569400466555, 3.703132388278381]\n"
     ]
    },
    {
     "name": "stderr",
     "output_type": "stream",
     "text": [
      "/Users/rorywilliams/anaconda/lib/python3.5/site-packages/scipy/stats/stats.py:1713: FutureWarning: Using a non-tuple sequence for multidimensional indexing is deprecated; use `arr[tuple(seq)]` instead of `arr[seq]`. In the future this will be interpreted as an array index, `arr[np.array(seq)]`, which will result either in an error or a different result.\n",
      "  return np.add.reduce(sorted[indexer] * weights, axis=axis) / sumval\n"
     ]
    },
    {
     "name": "stdout",
     "output_type": "stream",
     "text": [
      "counts =  [48547]\n",
      "means =  [2.62510091256747]\n"
     ]
    },
    {
     "name": "stderr",
     "output_type": "stream",
     "text": [
      "/Users/rorywilliams/anaconda/lib/python3.5/site-packages/scipy/stats/stats.py:1713: FutureWarning: Using a non-tuple sequence for multidimensional indexing is deprecated; use `arr[tuple(seq)]` instead of `arr[seq]`. In the future this will be interpreted as an array index, `arr[np.array(seq)]`, which will result either in an error or a different result.\n",
      "  return np.add.reduce(sorted[indexer] * weights, axis=axis) / sumval\n"
     ]
    },
    {
     "name": "stdout",
     "output_type": "stream",
     "text": [
      "counts =  [14154, 30553]\n",
      "means =  [1.8418632666574153, 3.6785292301816606]\n"
     ]
    },
    {
     "name": "stderr",
     "output_type": "stream",
     "text": [
      "/Users/rorywilliams/anaconda/lib/python3.5/site-packages/scipy/stats/stats.py:1713: FutureWarning: Using a non-tuple sequence for multidimensional indexing is deprecated; use `arr[tuple(seq)]` instead of `arr[seq]`. In the future this will be interpreted as an array index, `arr[np.array(seq)]`, which will result either in an error or a different result.\n",
      "  return np.add.reduce(sorted[indexer] * weights, axis=axis) / sumval\n"
     ]
    },
    {
     "name": "stdout",
     "output_type": "stream",
     "text": [
      "counts =  [37956, 8041]\n",
      "means =  [1.8468994693046858, 3.8169247441599494]\n"
     ]
    },
    {
     "name": "stderr",
     "output_type": "stream",
     "text": [
      "/Users/rorywilliams/anaconda/lib/python3.5/site-packages/scipy/stats/stats.py:1713: FutureWarning: Using a non-tuple sequence for multidimensional indexing is deprecated; use `arr[tuple(seq)]` instead of `arr[seq]`. In the future this will be interpreted as an array index, `arr[np.array(seq)]`, which will result either in an error or a different result.\n",
      "  return np.add.reduce(sorted[indexer] * weights, axis=axis) / sumval\n"
     ]
    },
    {
     "name": "stdout",
     "output_type": "stream",
     "text": [
      "counts =  [43124, 2783, 669]\n",
      "means =  [1.8678877165039063, 3.4682485033029256, 4.493863556823523]\n"
     ]
    },
    {
     "name": "stderr",
     "output_type": "stream",
     "text": [
      "/Users/rorywilliams/anaconda/lib/python3.5/site-packages/scipy/stats/stats.py:1713: FutureWarning: Using a non-tuple sequence for multidimensional indexing is deprecated; use `arr[tuple(seq)]` instead of `arr[seq]`. In the future this will be interpreted as an array index, `arr[np.array(seq)]`, which will result either in an error or a different result.\n",
      "  return np.add.reduce(sorted[indexer] * weights, axis=axis) / sumval\n"
     ]
    },
    {
     "name": "stdout",
     "output_type": "stream",
     "text": [
      "counts =  [47707]\n",
      "means =  [2.6110839720027115]\n"
     ]
    },
    {
     "name": "stderr",
     "output_type": "stream",
     "text": [
      "/Users/rorywilliams/anaconda/lib/python3.5/site-packages/scipy/stats/stats.py:1713: FutureWarning: Using a non-tuple sequence for multidimensional indexing is deprecated; use `arr[tuple(seq)]` instead of `arr[seq]`. In the future this will be interpreted as an array index, `arr[np.array(seq)]`, which will result either in an error or a different result.\n",
      "  return np.add.reduce(sorted[indexer] * weights, axis=axis) / sumval\n"
     ]
    },
    {
     "name": "stdout",
     "output_type": "stream",
     "text": [
      "counts =  [15338, 30030]\n",
      "means =  [1.838888271397689, 3.6588031797895155]\n"
     ]
    },
    {
     "name": "stderr",
     "output_type": "stream",
     "text": [
      "/Users/rorywilliams/anaconda/lib/python3.5/site-packages/scipy/stats/stats.py:1713: FutureWarning: Using a non-tuple sequence for multidimensional indexing is deprecated; use `arr[tuple(seq)]` instead of `arr[seq]`. In the future this will be interpreted as an array index, `arr[np.array(seq)]`, which will result either in an error or a different result.\n",
      "  return np.add.reduce(sorted[indexer] * weights, axis=axis) / sumval\n"
     ]
    },
    {
     "name": "stdout",
     "output_type": "stream",
     "text": [
      "counts =  [35626, 8979]\n",
      "means =  [1.821842971422072, 3.872198014567949]\n"
     ]
    },
    {
     "name": "stderr",
     "output_type": "stream",
     "text": [
      "/Users/rorywilliams/anaconda/lib/python3.5/site-packages/scipy/stats/stats.py:1713: FutureWarning: Using a non-tuple sequence for multidimensional indexing is deprecated; use `arr[tuple(seq)]` instead of `arr[seq]`. In the future this will be interpreted as an array index, `arr[np.array(seq)]`, which will result either in an error or a different result.\n",
      "  return np.add.reduce(sorted[indexer] * weights, axis=axis) / sumval\n"
     ]
    },
    {
     "name": "stdout",
     "output_type": "stream",
     "text": [
      "counts =  [34133, 10390]\n",
      "means =  [1.7902590328069108, 3.563613732411512]\n"
     ]
    },
    {
     "name": "stderr",
     "output_type": "stream",
     "text": [
      "/Users/rorywilliams/anaconda/lib/python3.5/site-packages/scipy/stats/stats.py:1713: FutureWarning: Using a non-tuple sequence for multidimensional indexing is deprecated; use `arr[tuple(seq)]` instead of `arr[seq]`. In the future this will be interpreted as an array index, `arr[np.array(seq)]`, which will result either in an error or a different result.\n",
      "  return np.add.reduce(sorted[indexer] * weights, axis=axis) / sumval\n"
     ]
    },
    {
     "name": "stdout",
     "output_type": "stream",
     "text": [
      "counts =  [48900]\n",
      "means =  [2.701359794687012]\n"
     ]
    },
    {
     "name": "stderr",
     "output_type": "stream",
     "text": [
      "/Users/rorywilliams/anaconda/lib/python3.5/site-packages/scipy/stats/stats.py:1713: FutureWarning: Using a non-tuple sequence for multidimensional indexing is deprecated; use `arr[tuple(seq)]` instead of `arr[seq]`. In the future this will be interpreted as an array index, `arr[np.array(seq)]`, which will result either in an error or a different result.\n",
      "  return np.add.reduce(sorted[indexer] * weights, axis=axis) / sumval\n"
     ]
    },
    {
     "name": "stdout",
     "output_type": "stream",
     "text": [
      "counts =  [1234, 47012]\n",
      "means =  [1.7806973733127704, 3.6846056531662614]\n"
     ]
    },
    {
     "name": "stderr",
     "output_type": "stream",
     "text": [
      "/Users/rorywilliams/anaconda/lib/python3.5/site-packages/scipy/stats/stats.py:1713: FutureWarning: Using a non-tuple sequence for multidimensional indexing is deprecated; use `arr[tuple(seq)]` instead of `arr[seq]`. In the future this will be interpreted as an array index, `arr[np.array(seq)]`, which will result either in an error or a different result.\n",
      "  return np.add.reduce(sorted[indexer] * weights, axis=axis) / sumval\n"
     ]
    },
    {
     "name": "stdout",
     "output_type": "stream",
     "text": [
      "counts =  [48348, 126]\n",
      "means =  [1.918459782932416, 3.824405289954532]\n"
     ]
    },
    {
     "name": "stderr",
     "output_type": "stream",
     "text": [
      "/Users/rorywilliams/anaconda/lib/python3.5/site-packages/scipy/stats/stats.py:1713: FutureWarning: Using a non-tuple sequence for multidimensional indexing is deprecated; use `arr[tuple(seq)]` instead of `arr[seq]`. In the future this will be interpreted as an array index, `arr[np.array(seq)]`, which will result either in an error or a different result.\n",
      "  return np.add.reduce(sorted[indexer] * weights, axis=axis) / sumval\n"
     ]
    },
    {
     "name": "stdout",
     "output_type": "stream",
     "text": [
      "counts =  [44444, 1671, 496]\n",
      "means =  [1.826836074933911, 3.596618466864974, 4.5352590662573]\n"
     ]
    },
    {
     "name": "stderr",
     "output_type": "stream",
     "text": [
      "/Users/rorywilliams/anaconda/lib/python3.5/site-packages/scipy/stats/stats.py:1713: FutureWarning: Using a non-tuple sequence for multidimensional indexing is deprecated; use `arr[tuple(seq)]` instead of `arr[seq]`. In the future this will be interpreted as an array index, `arr[np.array(seq)]`, which will result either in an error or a different result.\n",
      "  return np.add.reduce(sorted[indexer] * weights, axis=axis) / sumval\n"
     ]
    },
    {
     "name": "stdout",
     "output_type": "stream",
     "text": [
      "counts =  [49067]\n",
      "means =  [2.75761932618276]\n"
     ]
    },
    {
     "name": "stderr",
     "output_type": "stream",
     "text": [
      "/Users/rorywilliams/anaconda/lib/python3.5/site-packages/scipy/stats/stats.py:1713: FutureWarning: Using a non-tuple sequence for multidimensional indexing is deprecated; use `arr[tuple(seq)]` instead of `arr[seq]`. In the future this will be interpreted as an array index, `arr[np.array(seq)]`, which will result either in an error or a different result.\n",
      "  return np.add.reduce(sorted[indexer] * weights, axis=axis) / sumval\n"
     ]
    },
    {
     "name": "stdout",
     "output_type": "stream",
     "text": [
      "counts =  [863, 47709]\n",
      "means =  [1.7889369630197722, 3.660600490854533]\n"
     ]
    },
    {
     "name": "stderr",
     "output_type": "stream",
     "text": [
      "/Users/rorywilliams/anaconda/lib/python3.5/site-packages/scipy/stats/stats.py:1713: FutureWarning: Using a non-tuple sequence for multidimensional indexing is deprecated; use `arr[tuple(seq)]` instead of `arr[seq]`. In the future this will be interpreted as an array index, `arr[np.array(seq)]`, which will result either in an error or a different result.\n",
      "  return np.add.reduce(sorted[indexer] * weights, axis=axis) / sumval\n"
     ]
    },
    {
     "name": "stdout",
     "output_type": "stream",
     "text": [
      "counts =  [47977, 213]\n",
      "means =  [1.873784199663987, 3.959209482054633]\n"
     ]
    },
    {
     "name": "stderr",
     "output_type": "stream",
     "text": [
      "/Users/rorywilliams/anaconda/lib/python3.5/site-packages/scipy/stats/stats.py:1713: FutureWarning: Using a non-tuple sequence for multidimensional indexing is deprecated; use `arr[tuple(seq)]` instead of `arr[seq]`. In the future this will be interpreted as an array index, `arr[np.array(seq)]`, which will result either in an error or a different result.\n",
      "  return np.add.reduce(sorted[indexer] * weights, axis=axis) / sumval\n"
     ]
    },
    {
     "name": "stdout",
     "output_type": "stream",
     "text": [
      "counts =  [40733, 4622]\n",
      "means =  [1.7405966417397778, 3.8006081606795625]\n"
     ]
    },
    {
     "name": "stderr",
     "output_type": "stream",
     "text": [
      "/Users/rorywilliams/anaconda/lib/python3.5/site-packages/scipy/stats/stats.py:1713: FutureWarning: Using a non-tuple sequence for multidimensional indexing is deprecated; use `arr[tuple(seq)]` instead of `arr[seq]`. In the future this will be interpreted as an array index, `arr[np.array(seq)]`, which will result either in an error or a different result.\n",
      "  return np.add.reduce(sorted[indexer] * weights, axis=axis) / sumval\n"
     ]
    },
    {
     "name": "stdout",
     "output_type": "stream",
     "text": [
      "counts =  [17106, 29987]\n",
      "means =  [1.7297246787764342, 2.7031444817271075]\n"
     ]
    },
    {
     "name": "stderr",
     "output_type": "stream",
     "text": [
      "/Users/rorywilliams/anaconda/lib/python3.5/site-packages/scipy/stats/stats.py:1713: FutureWarning: Using a non-tuple sequence for multidimensional indexing is deprecated; use `arr[tuple(seq)]` instead of `arr[seq]`. In the future this will be interpreted as an array index, `arr[np.array(seq)]`, which will result either in an error or a different result.\n",
      "  return np.add.reduce(sorted[indexer] * weights, axis=axis) / sumval\n"
     ]
    },
    {
     "name": "stdout",
     "output_type": "stream",
     "text": [
      "counts =  [24624, 20770]\n",
      "means =  [1.764142025352741, 3.595683131135058]\n"
     ]
    },
    {
     "name": "stderr",
     "output_type": "stream",
     "text": [
      "/Users/rorywilliams/anaconda/lib/python3.5/site-packages/scipy/stats/stats.py:1713: FutureWarning: Using a non-tuple sequence for multidimensional indexing is deprecated; use `arr[tuple(seq)]` instead of `arr[seq]`. In the future this will be interpreted as an array index, `arr[np.array(seq)]`, which will result either in an error or a different result.\n",
      "  return np.add.reduce(sorted[indexer] * weights, axis=axis) / sumval\n"
     ]
    },
    {
     "name": "stdout",
     "output_type": "stream",
     "text": [
      "counts =  [38081, 8042]\n",
      "means =  [1.8223734918643708, 3.8498649388536945]\n"
     ]
    },
    {
     "name": "stderr",
     "output_type": "stream",
     "text": [
      "/Users/rorywilliams/anaconda/lib/python3.5/site-packages/scipy/stats/stats.py:1713: FutureWarning: Using a non-tuple sequence for multidimensional indexing is deprecated; use `arr[tuple(seq)]` instead of `arr[seq]`. In the future this will be interpreted as an array index, `arr[np.array(seq)]`, which will result either in an error or a different result.\n",
      "  return np.add.reduce(sorted[indexer] * weights, axis=axis) / sumval\n"
     ]
    },
    {
     "name": "stdout",
     "output_type": "stream",
     "text": [
      "counts =  [35894, 9747]\n",
      "means =  [1.807642664459652, 3.579076284117048]\n"
     ]
    },
    {
     "name": "stderr",
     "output_type": "stream",
     "text": [
      "/Users/rorywilliams/anaconda/lib/python3.5/site-packages/scipy/stats/stats.py:1713: FutureWarning: Using a non-tuple sequence for multidimensional indexing is deprecated; use `arr[tuple(seq)]` instead of `arr[seq]`. In the future this will be interpreted as an array index, `arr[np.array(seq)]`, which will result either in an error or a different result.\n",
      "  return np.add.reduce(sorted[indexer] * weights, axis=axis) / sumval\n"
     ]
    },
    {
     "name": "stdout",
     "output_type": "stream",
     "text": [
      "counts =  [16695, 30353]\n",
      "means =  [1.7088500266145277, 2.717950996664645]\n"
     ]
    },
    {
     "name": "stderr",
     "output_type": "stream",
     "text": [
      "/Users/rorywilliams/anaconda/lib/python3.5/site-packages/scipy/stats/stats.py:1713: FutureWarning: Using a non-tuple sequence for multidimensional indexing is deprecated; use `arr[tuple(seq)]` instead of `arr[seq]`. In the future this will be interpreted as an array index, `arr[np.array(seq)]`, which will result either in an error or a different result.\n",
      "  return np.add.reduce(sorted[indexer] * weights, axis=axis) / sumval\n"
     ]
    },
    {
     "name": "stdout",
     "output_type": "stream",
     "text": [
      "counts =  [21934, 22245]\n",
      "means =  [1.7553142942897046, 3.5418962557814497]\n"
     ]
    },
    {
     "name": "stderr",
     "output_type": "stream",
     "text": [
      "/Users/rorywilliams/anaconda/lib/python3.5/site-packages/scipy/stats/stats.py:1713: FutureWarning: Using a non-tuple sequence for multidimensional indexing is deprecated; use `arr[tuple(seq)]` instead of `arr[seq]`. In the future this will be interpreted as an array index, `arr[np.array(seq)]`, which will result either in an error or a different result.\n",
      "  return np.add.reduce(sorted[indexer] * weights, axis=axis) / sumval\n"
     ]
    },
    {
     "name": "stdout",
     "output_type": "stream",
     "text": [
      "counts =  [35082, 9932]\n",
      "means =  [1.7952835874493187, 3.7883275992073946]\n"
     ]
    },
    {
     "name": "stderr",
     "output_type": "stream",
     "text": [
      "/Users/rorywilliams/anaconda/lib/python3.5/site-packages/scipy/stats/stats.py:1713: FutureWarning: Using a non-tuple sequence for multidimensional indexing is deprecated; use `arr[tuple(seq)]` instead of `arr[seq]`. In the future this will be interpreted as an array index, `arr[np.array(seq)]`, which will result either in an error or a different result.\n",
      "  return np.add.reduce(sorted[indexer] * weights, axis=axis) / sumval\n"
     ]
    },
    {
     "name": "stdout",
     "output_type": "stream",
     "text": [
      "counts =  [39149, 5355, 942]\n",
      "means =  [1.7943428832616977, 3.459790932064099, 4.486118700880136]\n"
     ]
    },
    {
     "name": "stderr",
     "output_type": "stream",
     "text": [
      "/Users/rorywilliams/anaconda/lib/python3.5/site-packages/scipy/stats/stats.py:1713: FutureWarning: Using a non-tuple sequence for multidimensional indexing is deprecated; use `arr[tuple(seq)]` instead of `arr[seq]`. In the future this will be interpreted as an array index, `arr[np.array(seq)]`, which will result either in an error or a different result.\n",
      "  return np.add.reduce(sorted[indexer] * weights, axis=axis) / sumval\n"
     ]
    },
    {
     "name": "stdout",
     "output_type": "stream",
     "text": [
      "counts =  [48187]\n",
      "means =  [2.525180852067454]\n"
     ]
    },
    {
     "name": "stderr",
     "output_type": "stream",
     "text": [
      "/Users/rorywilliams/anaconda/lib/python3.5/site-packages/scipy/stats/stats.py:1713: FutureWarning: Using a non-tuple sequence for multidimensional indexing is deprecated; use `arr[tuple(seq)]` instead of `arr[seq]`. In the future this will be interpreted as an array index, `arr[np.array(seq)]`, which will result either in an error or a different result.\n",
      "  return np.add.reduce(sorted[indexer] * weights, axis=axis) / sumval\n"
     ]
    },
    {
     "name": "stdout",
     "output_type": "stream",
     "text": [
      "counts =  [7606, 38058]\n",
      "means =  [1.8110800456697622, 3.5727328910154457]\n"
     ]
    },
    {
     "name": "stderr",
     "output_type": "stream",
     "text": [
      "/Users/rorywilliams/anaconda/lib/python3.5/site-packages/scipy/stats/stats.py:1713: FutureWarning: Using a non-tuple sequence for multidimensional indexing is deprecated; use `arr[tuple(seq)]` instead of `arr[seq]`. In the future this will be interpreted as an array index, `arr[np.array(seq)]`, which will result either in an error or a different result.\n",
      "  return np.add.reduce(sorted[indexer] * weights, axis=axis) / sumval\n"
     ]
    },
    {
     "name": "stdout",
     "output_type": "stream",
     "text": [
      "counts =  [35781, 10735]\n",
      "means =  [1.805993531140261, 3.9147264436416283]\n"
     ]
    },
    {
     "name": "stderr",
     "output_type": "stream",
     "text": [
      "/Users/rorywilliams/anaconda/lib/python3.5/site-packages/scipy/stats/stats.py:1713: FutureWarning: Using a non-tuple sequence for multidimensional indexing is deprecated; use `arr[tuple(seq)]` instead of `arr[seq]`. In the future this will be interpreted as an array index, `arr[np.array(seq)]`, which will result either in an error or a different result.\n",
      "  return np.add.reduce(sorted[indexer] * weights, axis=axis) / sumval\n"
     ]
    },
    {
     "name": "stdout",
     "output_type": "stream",
     "text": [
      "counts =  [25608, 18673]\n",
      "means =  [1.714709571519733, 3.657802055487093]\n"
     ]
    },
    {
     "name": "stderr",
     "output_type": "stream",
     "text": [
      "/Users/rorywilliams/anaconda/lib/python3.5/site-packages/scipy/stats/stats.py:1713: FutureWarning: Using a non-tuple sequence for multidimensional indexing is deprecated; use `arr[tuple(seq)]` instead of `arr[seq]`. In the future this will be interpreted as an array index, `arr[np.array(seq)]`, which will result either in an error or a different result.\n",
      "  return np.add.reduce(sorted[indexer] * weights, axis=axis) / sumval\n"
     ]
    },
    {
     "name": "stdout",
     "output_type": "stream",
     "text": [
      "counts =  [48347]\n",
      "means =  [2.5627353108036086]\n"
     ]
    },
    {
     "name": "stderr",
     "output_type": "stream",
     "text": [
      "/Users/rorywilliams/anaconda/lib/python3.5/site-packages/scipy/stats/stats.py:1713: FutureWarning: Using a non-tuple sequence for multidimensional indexing is deprecated; use `arr[tuple(seq)]` instead of `arr[seq]`. In the future this will be interpreted as an array index, `arr[np.array(seq)]`, which will result either in an error or a different result.\n",
      "  return np.add.reduce(sorted[indexer] * weights, axis=axis) / sumval\n"
     ]
    },
    {
     "name": "stdout",
     "output_type": "stream",
     "text": [
      "counts =  [2171, 45978]\n",
      "means =  [2.050562449873441, 3.5944641127466483]\n"
     ]
    },
    {
     "name": "stderr",
     "output_type": "stream",
     "text": [
      "/Users/rorywilliams/anaconda/lib/python3.5/site-packages/scipy/stats/stats.py:1713: FutureWarning: Using a non-tuple sequence for multidimensional indexing is deprecated; use `arr[tuple(seq)]` instead of `arr[seq]`. In the future this will be interpreted as an array index, `arr[np.array(seq)]`, which will result either in an error or a different result.\n",
      "  return np.add.reduce(sorted[indexer] * weights, axis=axis) / sumval\n"
     ]
    },
    {
     "name": "stdout",
     "output_type": "stream",
     "text": [
      "counts =  [47274, 955]\n",
      "means =  [1.8706059913931132, 3.8968031228930053]\n"
     ]
    },
    {
     "name": "stderr",
     "output_type": "stream",
     "text": [
      "/Users/rorywilliams/anaconda/lib/python3.5/site-packages/scipy/stats/stats.py:1713: FutureWarning: Using a non-tuple sequence for multidimensional indexing is deprecated; use `arr[tuple(seq)]` instead of `arr[seq]`. In the future this will be interpreted as an array index, `arr[np.array(seq)]`, which will result either in an error or a different result.\n",
      "  return np.add.reduce(sorted[indexer] * weights, axis=axis) / sumval\n"
     ]
    },
    {
     "name": "stdout",
     "output_type": "stream",
     "text": [
      "counts =  [38478, 4959, 1013]\n",
      "means =  [1.7209376828571543, 3.5798055420676116, 4.601707496684483]\n"
     ]
    },
    {
     "name": "stderr",
     "output_type": "stream",
     "text": [
      "/Users/rorywilliams/anaconda/lib/python3.5/site-packages/scipy/stats/stats.py:1713: FutureWarning: Using a non-tuple sequence for multidimensional indexing is deprecated; use `arr[tuple(seq)]` instead of `arr[seq]`. In the future this will be interpreted as an array index, `arr[np.array(seq)]`, which will result either in an error or a different result.\n",
      "  return np.add.reduce(sorted[indexer] * weights, axis=axis) / sumval\n"
     ]
    },
    {
     "name": "stdout",
     "output_type": "stream",
     "text": [
      "counts =  [49290]\n",
      "means =  [2.7431337265477493]\n"
     ]
    },
    {
     "name": "stderr",
     "output_type": "stream",
     "text": [
      "/Users/rorywilliams/anaconda/lib/python3.5/site-packages/scipy/stats/stats.py:1713: FutureWarning: Using a non-tuple sequence for multidimensional indexing is deprecated; use `arr[tuple(seq)]` instead of `arr[seq]`. In the future this will be interpreted as an array index, `arr[np.array(seq)]`, which will result either in an error or a different result.\n",
      "  return np.add.reduce(sorted[indexer] * weights, axis=axis) / sumval\n"
     ]
    },
    {
     "name": "stdout",
     "output_type": "stream",
     "text": [
      "counts =  [1044, 47647]\n",
      "means =  [1.7576324914320103, 3.6791801415117558]\n"
     ]
    },
    {
     "name": "stderr",
     "output_type": "stream",
     "text": [
      "/Users/rorywilliams/anaconda/lib/python3.5/site-packages/scipy/stats/stats.py:1713: FutureWarning: Using a non-tuple sequence for multidimensional indexing is deprecated; use `arr[tuple(seq)]` instead of `arr[seq]`. In the future this will be interpreted as an array index, `arr[np.array(seq)]`, which will result either in an error or a different result.\n",
      "  return np.add.reduce(sorted[indexer] * weights, axis=axis) / sumval\n"
     ]
    },
    {
     "name": "stdout",
     "output_type": "stream",
     "text": [
      "counts =  [48424]\n",
      "means =  [1.879812424402481]\n"
     ]
    },
    {
     "name": "stderr",
     "output_type": "stream",
     "text": [
      "/Users/rorywilliams/anaconda/lib/python3.5/site-packages/scipy/stats/stats.py:1713: FutureWarning: Using a non-tuple sequence for multidimensional indexing is deprecated; use `arr[tuple(seq)]` instead of `arr[seq]`. In the future this will be interpreted as an array index, `arr[np.array(seq)]`, which will result either in an error or a different result.\n",
      "  return np.add.reduce(sorted[indexer] * weights, axis=axis) / sumval\n"
     ]
    },
    {
     "name": "stdout",
     "output_type": "stream",
     "text": [
      "counts =  [48026, 85]\n",
      "means =  [1.882862809160818, 3.6569695846891532]\n"
     ]
    },
    {
     "name": "stderr",
     "output_type": "stream",
     "text": [
      "/Users/rorywilliams/anaconda/lib/python3.5/site-packages/scipy/stats/stats.py:1713: FutureWarning: Using a non-tuple sequence for multidimensional indexing is deprecated; use `arr[tuple(seq)]` instead of `arr[seq]`. In the future this will be interpreted as an array index, `arr[np.array(seq)]`, which will result either in an error or a different result.\n",
      "  return np.add.reduce(sorted[indexer] * weights, axis=axis) / sumval\n"
     ]
    },
    {
     "name": "stdout",
     "output_type": "stream",
     "text": [
      "counts =  [49271]\n",
      "means =  [2.7290270998941355]\n"
     ]
    },
    {
     "name": "stderr",
     "output_type": "stream",
     "text": [
      "/Users/rorywilliams/anaconda/lib/python3.5/site-packages/scipy/stats/stats.py:1713: FutureWarning: Using a non-tuple sequence for multidimensional indexing is deprecated; use `arr[tuple(seq)]` instead of `arr[seq]`. In the future this will be interpreted as an array index, `arr[np.array(seq)]`, which will result either in an error or a different result.\n",
      "  return np.add.reduce(sorted[indexer] * weights, axis=axis) / sumval\n"
     ]
    },
    {
     "name": "stdout",
     "output_type": "stream",
     "text": [
      "counts =  [1119, 47603]\n",
      "means =  [1.7726870780038635, 3.7154923717310697]\n"
     ]
    },
    {
     "name": "stderr",
     "output_type": "stream",
     "text": [
      "/Users/rorywilliams/anaconda/lib/python3.5/site-packages/scipy/stats/stats.py:1713: FutureWarning: Using a non-tuple sequence for multidimensional indexing is deprecated; use `arr[tuple(seq)]` instead of `arr[seq]`. In the future this will be interpreted as an array index, `arr[np.array(seq)]`, which will result either in an error or a different result.\n",
      "  return np.add.reduce(sorted[indexer] * weights, axis=axis) / sumval\n"
     ]
    },
    {
     "name": "stdout",
     "output_type": "stream",
     "text": [
      "counts =  [48376]\n",
      "means =  [1.9024234872316592]\n",
      "counts =  [47960, 97]\n",
      "means =  [1.8935904697258472, 3.6854050620120713]\n"
     ]
    },
    {
     "name": "stderr",
     "output_type": "stream",
     "text": [
      "/Users/rorywilliams/anaconda/lib/python3.5/site-packages/scipy/stats/stats.py:1713: FutureWarning: Using a non-tuple sequence for multidimensional indexing is deprecated; use `arr[tuple(seq)]` instead of `arr[seq]`. In the future this will be interpreted as an array index, `arr[np.array(seq)]`, which will result either in an error or a different result.\n",
      "  return np.add.reduce(sorted[indexer] * weights, axis=axis) / sumval\n"
     ]
    }
   ],
   "source": [
    "# Generate data frames with peak means and fractions\n",
    "plate1_peaks_RW = GMM_method_RW(input_df_plate1,wells2)\n",
    "plate2_peaks_RW = GMM_method_RW(input_df_plate2,wells2)\n",
    "plate3_peaks_RW = GMM_method_RW(input_df_plate3,wells2)\n",
    "plate4_peaks_RW = GMM_method_RW(input_df_plate4,wells3)\n",
    "plate5_peaks_RW = GMM_method_RW(input_df_plate5,wells3)\n",
    "plate6_peaks_RW = GMM_method_RW(input_df_plate6,wells3)\n",
    "plate7_peaks_RW = GMM_method_RW(input_df_plate7,wells3)\n",
    "plate8_peaks_RW = GMM_method_RW(input_df_plate8,wells3)"
   ]
  },
  {
   "cell_type": "code",
   "execution_count": 44,
   "metadata": {
    "collapsed": true
   },
   "outputs": [],
   "source": [
    "# Label dataframe with metadata\n",
    "plate1_peaks_labeled = select_add_metadata(plate1_peaks_RW,'./20190215_T7diff_metadata.csv',wells2)\n",
    "plate2_peaks_labeled = select_add_metadata(plate2_peaks_RW,'./20190215_T7diff_metadata.csv',wells2)\n",
    "plate3_peaks_labeled = select_add_metadata(plate3_peaks_RW,'./20190215_T7diff_metadata.csv',wells2)\n",
    "plate4_peaks_labeled = select_add_metadata(plate4_peaks_RW,'./20190215_T7diff_metadata.csv',wells3)\n",
    "plate5_peaks_labeled = select_add_metadata(plate5_peaks_RW,'./20190215_T7diff_metadata.csv',wells3)\n",
    "plate6_peaks_labeled = select_add_metadata(plate6_peaks_RW,'./20190215_T7diff_metadata.csv',wells3)\n",
    "plate7_peaks_labeled = select_add_metadata(plate7_peaks_RW,'./20190215_T7diff_metadata.csv',wells3)\n",
    "plate8_peaks_labeled = select_add_metadata(plate8_peaks_RW,'./20190215_T7diff_metadata.csv',wells3)"
   ]
  },
  {
   "cell_type": "code",
   "execution_count": 45,
   "metadata": {
    "collapsed": true
   },
   "outputs": [],
   "source": [
    "# Generate dataframe with peaks from all plates\n",
    "plates = [plate1_peaks_labeled,plate2_peaks_labeled,plate3_peaks_labeled,plate4_peaks_labeled,\n",
    "          plate5_peaks_labeled,plate6_peaks_labeled,plate7_peaks_labeled,plate8_peaks_labeled]\n",
    "\n",
    "for i, plate in enumerate(plates):\n",
    "    if i==0:\n",
    "        peaks_labeled = plate.copy()\n",
    "        peaks_labeled['plate'] = 1\n",
    "    else:\n",
    "        p_add = plate.copy()\n",
    "        p_add['plate'] = i + 1\n",
    "        peaks_labeled = pd.concat([peaks_labeled,p_add])\n",
    "        "
   ]
  },
  {
   "cell_type": "code",
   "execution_count": 46,
   "metadata": {
    "collapsed": true
   },
   "outputs": [],
   "source": [
    "# Use all detected on peaks to determine total fraction on\n",
    "plate1_fracs = get_frac_on(plate1_peaks_RW,wells2)\n",
    "plate2_fracs = get_frac_on(plate2_peaks_RW,wells2)\n",
    "plate3_fracs = get_frac_on(plate3_peaks_RW,wells2)\n",
    "plate4_fracs = get_frac_on(plate4_peaks_RW,wells3)\n",
    "plate5_fracs = get_frac_on(plate5_peaks_RW,wells3)\n",
    "plate6_fracs = get_frac_on(plate6_peaks_RW,wells3)\n",
    "plate7_fracs = get_frac_on(plate7_peaks_RW,wells3)\n",
    "plate8_fracs = get_frac_on(plate8_peaks_RW,wells3)"
   ]
  },
  {
   "cell_type": "code",
   "execution_count": 47,
   "metadata": {
    "collapsed": true
   },
   "outputs": [],
   "source": [
    "# Add metadata to dataframe\n",
    "plate1_fracs_labeled = select_add_metadata(plate1_fracs,'./20190215_T7diff_metadata.csv',wells2)\n",
    "plate2_fracs_labeled = select_add_metadata(plate2_fracs,'./20190215_T7diff_metadata.csv',wells2)\n",
    "plate3_fracs_labeled = select_add_metadata(plate3_fracs,'./20190215_T7diff_metadata.csv',wells2)\n",
    "plate4_fracs_labeled = select_add_metadata(plate4_fracs,'./20190215_T7diff_metadata.csv',wells3)\n",
    "plate5_fracs_labeled = select_add_metadata(plate5_fracs,'./20190215_T7diff_metadata.csv',wells3)\n",
    "plate6_fracs_labeled = select_add_metadata(plate6_fracs,'./20190215_T7diff_metadata.csv',wells3)\n",
    "plate7_fracs_labeled = select_add_metadata(plate7_fracs,'./20190215_T7diff_metadata.csv',wells3)\n",
    "plate8_fracs_labeled = select_add_metadata(plate8_fracs,'./20190215_T7diff_metadata.csv',wells3)"
   ]
  },
  {
   "cell_type": "code",
   "execution_count": 48,
   "metadata": {
    "collapsed": true
   },
   "outputs": [],
   "source": [
    "# Generate dataframe with population fraction on for all plates\n",
    "plates = [plate1_fracs_labeled,plate2_fracs_labeled,plate3_fracs_labeled,plate4_fracs_labeled,\n",
    "          plate5_fracs_labeled,plate6_fracs_labeled,plate7_fracs_labeled,plate8_fracs_labeled]\n",
    "\n",
    "for i, plate in enumerate(plates):\n",
    "    if i==0:\n",
    "        fracs_labeled = plate.copy()\n",
    "        fracs_labeled['plate'] = 1\n",
    "    else:\n",
    "        p_add = plate.copy()\n",
    "        p_add['plate'] = i + 1\n",
    "        fracs_labeled = pd.concat([fracs_labeled,p_add])"
   ]
  },
  {
   "cell_type": "code",
   "execution_count": 49,
   "metadata": {
    "collapsed": true
   },
   "outputs": [],
   "source": [
    "fracs_labeled.to_csv('./20190215_T7diff_fraction_on_summary.csv')\n",
    "peaks_labeled.to_csv('./20190215_T7diff_all_peaks.csv')\n"
   ]
  }
 ],
 "metadata": {
  "kernelspec": {
   "display_name": "Python 3",
   "language": "python",
   "name": "python3"
  },
  "language_info": {
   "codemirror_mode": {
    "name": "ipython",
    "version": 3
   },
   "file_extension": ".py",
   "mimetype": "text/x-python",
   "name": "python",
   "nbconvert_exporter": "python",
   "pygments_lexer": "ipython3",
   "version": "3.6.1"
  }
 },
 "nbformat": 4,
 "nbformat_minor": 2
}
